{
  "nbformat": 4,
  "nbformat_minor": 0,
  "metadata": {
    "colab": {
      "provenance": [],
      "authorship_tag": "ABX9TyNkoxaWHI2K1juUV7tjB/48",
      "include_colab_link": true
    },
    "kernelspec": {
      "name": "python3",
      "display_name": "Python 3"
    },
    "language_info": {
      "name": "python"
    }
  },
  "cells": [
    {
      "cell_type": "markdown",
      "metadata": {
        "id": "view-in-github",
        "colab_type": "text"
      },
      "source": [
        "<a href=\"https://colab.research.google.com/github/Nadezda-Sut/statistics_in_science/blob/main/Convert.ipynb\" target=\"_parent\"><img src=\"https://colab.research.google.com/assets/colab-badge.svg\" alt=\"Open In Colab\"/></a>"
      ]
    },
    {
      "cell_type": "markdown",
      "source": [
        "## Convert .set EEG format to .fif format\n",
        "\n"
      ],
      "metadata": {
        "id": "3jKRaRb2xyh7"
      }
    },
    {
      "cell_type": "code",
      "execution_count": 1,
      "metadata": {
        "colab": {
          "base_uri": "https://localhost:8080/"
        },
        "id": "wRq-aMp4xfws",
        "outputId": "1ac0cf8f-be6e-4b6d-c164-a7be3c7a88d7"
      },
      "outputs": [
        {
          "output_type": "stream",
          "name": "stdout",
          "text": [
            "Looking in indexes: https://pypi.org/simple, https://us-python.pkg.dev/colab-wheels/public/simple/\n",
            "Collecting mne\n",
            "  Downloading mne-1.3.1-py3-none-any.whl (7.6 MB)\n",
            "\u001b[2K     \u001b[90m━━━━━━━━━━━━━━━━━━━━━━━━━━━━━━━━━━━━━━━━\u001b[0m \u001b[32m7.6/7.6 MB\u001b[0m \u001b[31m42.6 MB/s\u001b[0m eta \u001b[36m0:00:00\u001b[0m\n",
            "\u001b[?25hRequirement already satisfied: packaging in /usr/local/lib/python3.9/dist-packages (from mne) (23.0)\n",
            "Requirement already satisfied: numpy>=1.15.4 in /usr/local/lib/python3.9/dist-packages (from mne) (1.22.4)\n",
            "Requirement already satisfied: decorator in /usr/local/lib/python3.9/dist-packages (from mne) (4.4.2)\n",
            "Requirement already satisfied: scipy>=1.1.0 in /usr/local/lib/python3.9/dist-packages (from mne) (1.10.1)\n",
            "Requirement already satisfied: pooch>=1.5 in /usr/local/lib/python3.9/dist-packages (from mne) (1.6.0)\n",
            "Requirement already satisfied: jinja2 in /usr/local/lib/python3.9/dist-packages (from mne) (3.1.2)\n",
            "Requirement already satisfied: matplotlib in /usr/local/lib/python3.9/dist-packages (from mne) (3.7.1)\n",
            "Requirement already satisfied: tqdm in /usr/local/lib/python3.9/dist-packages (from mne) (4.65.0)\n",
            "Requirement already satisfied: appdirs>=1.3.0 in /usr/local/lib/python3.9/dist-packages (from pooch>=1.5->mne) (1.4.4)\n",
            "Requirement already satisfied: requests>=2.19.0 in /usr/local/lib/python3.9/dist-packages (from pooch>=1.5->mne) (2.27.1)\n",
            "Requirement already satisfied: MarkupSafe>=2.0 in /usr/local/lib/python3.9/dist-packages (from jinja2->mne) (2.1.2)\n",
            "Requirement already satisfied: contourpy>=1.0.1 in /usr/local/lib/python3.9/dist-packages (from matplotlib->mne) (1.0.7)\n",
            "Requirement already satisfied: importlib-resources>=3.2.0 in /usr/local/lib/python3.9/dist-packages (from matplotlib->mne) (5.12.0)\n",
            "Requirement already satisfied: pyparsing>=2.3.1 in /usr/local/lib/python3.9/dist-packages (from matplotlib->mne) (3.0.9)\n",
            "Requirement already satisfied: pillow>=6.2.0 in /usr/local/lib/python3.9/dist-packages (from matplotlib->mne) (8.4.0)\n",
            "Requirement already satisfied: kiwisolver>=1.0.1 in /usr/local/lib/python3.9/dist-packages (from matplotlib->mne) (1.4.4)\n",
            "Requirement already satisfied: fonttools>=4.22.0 in /usr/local/lib/python3.9/dist-packages (from matplotlib->mne) (4.39.3)\n",
            "Requirement already satisfied: cycler>=0.10 in /usr/local/lib/python3.9/dist-packages (from matplotlib->mne) (0.11.0)\n",
            "Requirement already satisfied: python-dateutil>=2.7 in /usr/local/lib/python3.9/dist-packages (from matplotlib->mne) (2.8.2)\n",
            "Requirement already satisfied: zipp>=3.1.0 in /usr/local/lib/python3.9/dist-packages (from importlib-resources>=3.2.0->matplotlib->mne) (3.15.0)\n",
            "Requirement already satisfied: six>=1.5 in /usr/local/lib/python3.9/dist-packages (from python-dateutil>=2.7->matplotlib->mne) (1.16.0)\n",
            "Requirement already satisfied: urllib3<1.27,>=1.21.1 in /usr/local/lib/python3.9/dist-packages (from requests>=2.19.0->pooch>=1.5->mne) (1.26.15)\n",
            "Requirement already satisfied: certifi>=2017.4.17 in /usr/local/lib/python3.9/dist-packages (from requests>=2.19.0->pooch>=1.5->mne) (2022.12.7)\n",
            "Requirement already satisfied: idna<4,>=2.5 in /usr/local/lib/python3.9/dist-packages (from requests>=2.19.0->pooch>=1.5->mne) (3.4)\n",
            "Requirement already satisfied: charset-normalizer~=2.0.0 in /usr/local/lib/python3.9/dist-packages (from requests>=2.19.0->pooch>=1.5->mne) (2.0.12)\n",
            "Installing collected packages: mne\n",
            "Successfully installed mne-1.3.1\n"
          ]
        }
      ],
      "source": [
        "!pip install mne"
      ]
    },
    {
      "cell_type": "code",
      "source": [
        "import matplotlib\n",
        "import pathlib\n",
        "import mne"
      ],
      "metadata": {
        "id": "ZuWTNx7jyDtS"
      },
      "execution_count": 2,
      "outputs": []
    },
    {
      "cell_type": "code",
      "source": [
        "from google.colab import drive\n",
        "drive.mount('/content/gdrive')"
      ],
      "metadata": {
        "colab": {
          "base_uri": "https://localhost:8080/"
        },
        "id": "jp5wnKpSyKGY",
        "outputId": "4b83ebcb-94e9-4829-c379-b7416eb9589f"
      },
      "execution_count": 3,
      "outputs": [
        {
          "output_type": "stream",
          "name": "stdout",
          "text": [
            "Mounted at /content/gdrive\n"
          ]
        }
      ]
    },
    {
      "cell_type": "code",
      "source": [
        "# path to file in google drive\n",
        "\n",
        "file_path = \"/content/gdrive/My Drive/Colab Notebooks/VatEvgDoICA.set\""
      ],
      "metadata": {
        "id": "zvQZ-89zyS7X"
      },
      "execution_count": 4,
      "outputs": []
    },
    {
      "cell_type": "code",
      "source": [
        "raw = mne.io.read_raw_eeglab(file_path)\n",
        "raw = raw.pick_types(meg=False, eeg=True, eog=False, exclude='bads')"
      ],
      "metadata": {
        "colab": {
          "base_uri": "https://localhost:8080/"
        },
        "id": "VbtF8l-yyav4",
        "outputId": "7368bb57-de80-4332-9fd2-23289626148c"
      },
      "execution_count": 5,
      "outputs": [
        {
          "output_type": "stream",
          "name": "stdout",
          "text": [
            "Reading /content/gdrive/My Drive/Colab Notebooks/VatEvgDoICA.fdt\n"
          ]
        },
        {
          "output_type": "stream",
          "name": "stderr",
          "text": [
            "<ipython-input-5-270adf855ea2>:1: RuntimeWarning: Limited 1 annotation(s) that were expanding outside the data range.\n",
            "  raw = mne.io.read_raw_eeglab(file_path)\n",
            "<ipython-input-5-270adf855ea2>:1: RuntimeWarning: The data contains 'boundary' events, indicating data discontinuities. Be cautious of filtering and epoching around these events.\n",
            "  raw = mne.io.read_raw_eeglab(file_path)\n"
          ]
        }
      ]
    },
    {
      "cell_type": "code",
      "source": [
        "# Создание фиксированных эпох продолжительностью 2 секунды\n",
        "events = mne.make_fixed_length_events(raw, id=1, start=0, duration=2)\n",
        "\n",
        "# Создание эпох на основе фиксированных событий\n",
        "epochs = mne.Epochs(raw, events, tmin=0, tmax=1, baseline=None, preload=True)\n",
        "\n",
        "# Просмотр эпох\n",
        "print(epochs)"
      ],
      "metadata": {
        "colab": {
          "base_uri": "https://localhost:8080/"
        },
        "id": "rLYIDykfyfPl",
        "outputId": "96379fd1-0013-42e5-fc75-d12c8ab450f1"
      },
      "execution_count": 6,
      "outputs": [
        {
          "output_type": "stream",
          "name": "stdout",
          "text": [
            "Not setting metadata\n",
            "120 matching events found\n",
            "No baseline correction applied\n",
            "0 projection items activated\n",
            "Loading data for 120 events and 257 original time points ...\n",
            "0 bad epochs dropped\n",
            "<Epochs |  120 events (all good), 0 - 1 sec, baseline off, ~13.5 MB, data loaded,\n",
            " '1': 120>\n"
          ]
        }
      ]
    },
    {
      "cell_type": "code",
      "source": [
        "input_file = '/content/gdrive/My Drive/Colab Notebooks/VatEvgDoICA.set'\n",
        "output_file = '/content/gdrive/My Drive/Colab Notebooks/output.fif'\n",
        "\n",
        "# Read the EEG data from the input file\n",
        "raw = mne.io.read_raw_eeglab(input_file, preload=True)\n",
        "\n",
        "# Save the EEG data to the output file in FIF format\n",
        "raw.save(output_file, overwrite=True)"
      ],
      "metadata": {
        "colab": {
          "base_uri": "https://localhost:8080/"
        },
        "id": "We5_TTMNyjRV",
        "outputId": "339fe1b8-d1a9-4675-b2b8-063684610b89"
      },
      "execution_count": 8,
      "outputs": [
        {
          "output_type": "stream",
          "name": "stdout",
          "text": [
            "Reading /content/gdrive/My Drive/Colab Notebooks/VatEvgDoICA.fdt\n",
            "Reading 0 ... 61924  =      0.000 ...   241.891 secs...\n",
            "Overwriting existing file.\n",
            "Writing /content/gdrive/My Drive/Colab Notebooks/output.fif\n",
            "Closing /content/gdrive/My Drive/Colab Notebooks/output.fif\n"
          ]
        },
        {
          "output_type": "stream",
          "name": "stderr",
          "text": [
            "<ipython-input-8-31932222865e>:5: RuntimeWarning: Limited 1 annotation(s) that were expanding outside the data range.\n",
            "  raw = mne.io.read_raw_eeglab(input_file, preload=True)\n",
            "<ipython-input-8-31932222865e>:5: RuntimeWarning: The data contains 'boundary' events, indicating data discontinuities. Be cautious of filtering and epoching around these events.\n",
            "  raw = mne.io.read_raw_eeglab(input_file, preload=True)\n",
            "<ipython-input-8-31932222865e>:8: RuntimeWarning: This filename (/content/gdrive/My Drive/Colab Notebooks/output.fif) does not conform to MNE naming conventions. All raw files should end with raw.fif, raw_sss.fif, raw_tsss.fif, _meg.fif, _eeg.fif, _ieeg.fif, raw.fif.gz, raw_sss.fif.gz, raw_tsss.fif.gz, _meg.fif.gz, _eeg.fif.gz or _ieeg.fif.gz\n",
            "  raw.save(output_file, overwrite=True)\n"
          ]
        },
        {
          "output_type": "stream",
          "name": "stdout",
          "text": [
            "[done]\n"
          ]
        }
      ]
    }
  ]
}