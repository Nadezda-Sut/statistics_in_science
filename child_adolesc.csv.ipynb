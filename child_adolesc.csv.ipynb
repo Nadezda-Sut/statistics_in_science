{
  "nbformat": 4,
  "nbformat_minor": 0,
  "metadata": {
    "colab": {
      "provenance": [],
      "authorship_tag": "ABX9TyNLRAL4SUSXo1Vthpvrmw/H",
      "include_colab_link": true
    },
    "kernelspec": {
      "name": "python3",
      "display_name": "Python 3"
    },
    "language_info": {
      "name": "python"
    }
  },
  "cells": [
    {
      "cell_type": "markdown",
      "metadata": {
        "id": "view-in-github",
        "colab_type": "text"
      },
      "source": [
        "<a href=\"https://colab.research.google.com/github/Nadezda-Sut/statistics_in_science/blob/main/child_adolesc.csv.ipynb\" target=\"_parent\"><img src=\"https://colab.research.google.com/assets/colab-badge.svg\" alt=\"Open In Colab\"/></a>"
      ]
    },
    {
      "cell_type": "code",
      "execution_count": 2,
      "metadata": {
        "colab": {
          "base_uri": "https://localhost:8080/"
        },
        "id": "2eq83J9yOYUd",
        "outputId": "66eea8a8-d272-422d-8364-2dd380c29486"
      },
      "outputs": [
        {
          "output_type": "stream",
          "name": "stdout",
          "text": [
            "Drive already mounted at /content/gdrive; to attempt to forcibly remount, call drive.mount(\"/content/gdrive\", force_remount=True).\n",
            "Normality test results for children:\n",
            "WMem: Количество объектов, серия 1: Statistics=0.9406476057194831, p-value=0.008279016165252099\n",
            "WMem: Количество объектов, серия 2: Statistics=0.9354512773884714, p-value=0.004989477802026705\n",
            "WMem: Количество объектов, серия 3: Statistics=0.9193619801939121, p-value=0.0011277878267649283\n",
            "WMem: Время серии 1: Statistics=0.9585600613824257, p-value=0.05206761260585255\n",
            "WMem: Время серии 2: Statistics=0.6455908882435153, p-value=2.2922305142032234e-10\n",
            "WMem: Время серии 3: Statistics=0.8602464617917981, p-value=1.143209470039587e-05\n",
            "\n",
            "Normality test results for adolescents:\n",
            "WMem: Количество объектов, серия 1: Statistics=0.9574296784581356, p-value=0.030837706900760927\n",
            "WMem: Количество объектов, серия 2: Statistics=0.9309774578080728, p-value=0.001793996351274612\n",
            "WMem: Количество объектов, серия 3: Statistics=0.9325075274428059, p-value=0.0020924951382847753\n",
            "WMem: Время серии 1: Statistics=0.95055935277696, p-value=0.014199696039266494\n",
            "WMem: Время серии 2: Statistics=0.7793165449767958, p-value=2.941512714773236e-08\n",
            "WMem: Время серии 3: Statistics=0.739404511886545, p-value=3.705737920389563e-09\n"
          ]
        }
      ],
      "source": [
        "import pandas as pd\n",
        "from scipy.stats import shapiro\n",
        "\n",
        "# Mount Google Drive\n",
        "from google.colab import drive\n",
        "drive.mount('/content/gdrive')\n",
        "\n",
        "# Load the data\n",
        "file_path = \"/content/gdrive/My Drive/working_memory/child_adolesc.csv\"\n",
        "data = pd.read_csv(file_path)\n",
        "\n",
        "# Split data into two groups: children (0) and adolescents (1)\n",
        "children_data = data[data['Ребенок(0)/Подросток(1)'] == 0]\n",
        "adolescents_data = data[data['Ребенок(0)/Подросток(1)'] == 1]\n",
        "\n",
        "# List of columns to test for normality\n",
        "columns_to_test = [\n",
        "    \"WMem: Количество объектов, серия 1\",\n",
        "    \"WMem: Количество объектов, серия 2\",\n",
        "    \"WMem: Количество объектов, серия 3\",\n",
        "    \"WMem: Время серии 1\",\n",
        "    \"WMem: Время серии 2\",\n",
        "    \"WMem: Время серии 3\"\n",
        "]\n",
        "\n",
        "# Function to perform the Shapiro-Wilk test\n",
        "def check_normality(data, columns):\n",
        "    normality_results = {}\n",
        "    for column in columns:\n",
        "        stat, p_value = shapiro(data[column])\n",
        "        normality_results[column] = (stat, p_value)\n",
        "    return normality_results\n",
        "\n",
        "# Check normality for children\n",
        "children_normality = check_normality(children_data, columns_to_test)\n",
        "\n",
        "# Check normality for adolescents\n",
        "adolescents_normality = check_normality(adolescents_data, columns_to_test)\n",
        "\n",
        "# Print results\n",
        "print(\"Normality test results for children:\")\n",
        "for column, (stat, p_value) in children_normality.items():\n",
        "    print(f\"{column}: Statistics={stat}, p-value={p_value}\")\n",
        "\n",
        "print(\"\\nNormality test results for adolescents:\")\n",
        "for column, (stat, p_value) in adolescents_normality.items():\n",
        "    print(f\"{column}: Statistics={stat}, p-value={p_value}\")\n"
      ]
    }
  ]
}