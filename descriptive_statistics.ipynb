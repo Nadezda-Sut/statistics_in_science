{
  "nbformat": 4,
  "nbformat_minor": 0,
  "metadata": {
    "colab": {
      "provenance": [],
      "authorship_tag": "ABX9TyNgPwz8qGbBa9E/v4ul+zpT",
      "include_colab_link": true
    },
    "kernelspec": {
      "name": "python3",
      "display_name": "Python 3"
    },
    "language_info": {
      "name": "python"
    }
  },
  "cells": [
    {
      "cell_type": "markdown",
      "metadata": {
        "id": "view-in-github",
        "colab_type": "text"
      },
      "source": [
        "<a href=\"https://colab.research.google.com/github/Nadezda-Sut/statistics_in_science/blob/main/descriptive_statistics.ipynb\" target=\"_parent\"><img src=\"https://colab.research.google.com/assets/colab-badge.svg\" alt=\"Open In Colab\"/></a>"
      ]
    },
    {
      "cell_type": "code",
      "execution_count": 3,
      "metadata": {
        "id": "GZlGM_ErGkbg"
      },
      "outputs": [],
      "source": [
        "import pandas as pd\n",
        "import scipy.stats as stats\n",
        "from google.colab import drive"
      ]
    },
    {
      "cell_type": "code",
      "source": [
        "drive.mount('/content/gdrive')\n",
        "\n",
        "file_path = \"/content/gdrive/My Drive/delite/beta/EEGrequests (1).csv\"\n",
        "data = pd.read_csv(file_path)\n"
      ],
      "metadata": {
        "colab": {
          "base_uri": "https://localhost:8080/"
        },
        "id": "1WX1h3ZaGqmb",
        "outputId": "be4ffb90-1af4-4957-cea8-b587ae5ef7c9"
      },
      "execution_count": 4,
      "outputs": [
        {
          "output_type": "stream",
          "name": "stdout",
          "text": [
            "Drive already mounted at /content/gdrive; to attempt to forcibly remount, call drive.mount(\"/content/gdrive\", force_remount=True).\n"
          ]
        }
      ]
    },
    {
      "cell_type": "code",
      "source": [
        "# Установка необходимого пакета\n",
        "!pip install xlsxwriter\n",
        "\n",
        "from google.colab import drive\n",
        "import pandas as pd\n",
        "from scipy.stats import skew, kurtosis\n",
        "\n",
        "# Монтирование Google Диска\n",
        "drive.mount('/content/gdrive', force_remount=True)\n",
        "\n",
        "# Путь к файлу на Google Диске\n",
        "file_path = \"/content/gdrive/My Drive/delite/beta/EEGrequests (1).csv\"\n",
        "\n",
        "# Загрузка данных из файла\n",
        "data = pd.read_csv(file_path)\n",
        "\n",
        "# Выбор переменных для анализа\n",
        "variables = [\n",
        "    'стаж использования интернета в учебных целях',\n",
        "    'самооценка навыков использования компьютера',\n",
        "    'самооценка навыков поиска информации',\n",
        "    'количество запросов 1', 'количество просмотренных ссылок 1',\n",
        "    'Интернет ответ', 'Интернет время', 'Возраст', 'Пол',\n",
        "    'Time-test: Среднее 1 1',\n",
        "    'Time-test: Среднее время реакции, серия 1 (Часть 2)',\n",
        "    'Time-test: Среднее время реакции, серия 2 (Часть 1)',\n",
        "    'Time-test: Среднее время реакции, серия 2 (Часть 2)', 'Time-test: Проп 1 1',\n",
        "    'Time-test: Количество пропусков, серия 1 (Часть 2)',\n",
        "    'Time-test: Количество пропусков, серия 2 (Часть 1)',\n",
        "    'Time-test: Количество пропусков, серия 2 (Часть 2)', 'Time-test: Ош 2 1',\n",
        "    'Time-test: Количество ошибок, серия 2 (Часть 2)',\n",
        "    'WMem: Количество объектов, серия 1', 'WMem: Количество объектов, серия 2', 'WMem: Количество объектов, серия 3',\n",
        "    'WMem: Время серии 1', 'WMem: Время серии 2', 'WMem: Время серии 3',\n",
        "    'Время фиксации на области интереса (тексте)', 'Среднее время фиксации', 'Все фиксации',\n",
        "    'Modularity (Do_13-30)', 'Global Efficiency(Do_13-30)', 'Modularity(Posle_13-30)',\n",
        "    'Global Efficiency(Posle_13-30)', 'Modularity(Do_8-12)', 'Global Efficiency(Do_8-12)',\n",
        "    'Modularity(Posle_8-12)', 'Global Efficiency(Posle_8-12)'\n",
        "]\n",
        "\n",
        "# Вычисление описательных статистик\n",
        "stats_list = []\n",
        "\n",
        "for var in variables:\n",
        "    if var in data.columns:\n",
        "        mean = data[var].mean()\n",
        "        std = data[var].std()\n",
        "        median = data[var].median()\n",
        "        iqr = data[var].quantile(0.75) - data[var].quantile(0.25)\n",
        "        min_val = data[var].min()\n",
        "        max_val = data[var].max()\n",
        "        skewness = skew(data[var].dropna())\n",
        "        kurt = kurtosis(data[var].dropna())\n",
        "        stats_list.append({\n",
        "            'Переменная': var,\n",
        "            'Среднее': mean,\n",
        "            'Стандартное отклонение': std,\n",
        "            'Медиана': median,\n",
        "            'Межквартильный размах': iqr,\n",
        "            'Минимум': min_val,\n",
        "            'Максимум': max_val,\n",
        "            'Скошенность': skewness,\n",
        "            'Коэффициент эксцесса': kurt\n",
        "        })\n",
        "\n",
        "stats = pd.DataFrame(stats_list)\n",
        "\n",
        "# Путь для сохранения результата\n",
        "output_excel_path = \"/content/gdrive/My Drive/delite/beta/descriptive_statistics.xlsx\"\n",
        "\n",
        "# Сохранение таблицы в файл Excel\n",
        "with pd.ExcelWriter(output_excel_path, engine='xlsxwriter') as writer:\n",
        "    stats.to_excel(writer, sheet_name='Статистики', index=False, float_format='%.2f')\n",
        "\n",
        "print(f\"Файл сохранен по пути: {output_excel_path}\")\n"
      ],
      "metadata": {
        "colab": {
          "base_uri": "https://localhost:8080/"
        },
        "id": "T5FY0IuYq19n",
        "outputId": "32980288-1255-4e16-8a9e-2b6b93265b6b"
      },
      "execution_count": 11,
      "outputs": [
        {
          "output_type": "stream",
          "name": "stdout",
          "text": [
            "Requirement already satisfied: xlsxwriter in /usr/local/lib/python3.10/dist-packages (3.2.0)\n",
            "Mounted at /content/gdrive\n",
            "Файл сохранен по пути: /content/gdrive/My Drive/delite/beta/descriptive_statistics.xlsx\n"
          ]
        }
      ]
    }
  ]
}